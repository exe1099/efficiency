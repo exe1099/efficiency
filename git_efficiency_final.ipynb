{
 "cells": [
  {
   "cell_type": "markdown",
   "metadata": {
    "heading_collapsed": true
   },
   "source": [
    "## Imports"
   ]
  },
  {
   "cell_type": "code",
   "execution_count": 1,
   "metadata": {
    "hidden": true
   },
   "outputs": [],
   "source": [
    "%load_ext autoreload\n",
    "%autoreload 2\n",
    "%aimport -os, -np, -plt, -mpl, -c, -u, -unp, -ufloat, -umath, -sp, -sc, -fit, -pd, -sys"
   ]
  },
  {
   "cell_type": "code",
   "execution_count": 2,
   "metadata": {
    "hidden": true
   },
   "outputs": [],
   "source": [
    "import os\n",
    "import numpy as np\n",
    "import matplotlib as mpl\n",
    "import matplotlib.pyplot as plt\n",
    "%matplotlib inline\n",
    "import scipy.constants as c\n",
    "import scipy as sc\n",
    "phc = c.physical_constants\n",
    "import sys\n",
    "sys.path.append('/home/excalibur/pCloudDrive/Informatik/Python/')\n",
    "from self_written_functions import *\n",
    "from scipy.interpolate import interp1d\n",
    "sys.path.append('/home/excalibur/Dropbox/Bachelor')\n",
    "from main_class import *\n",
    "import efficiency_functions as ef"
   ]
  },
  {
   "cell_type": "code",
   "execution_count": 3,
   "metadata": {
    "hidden": true
   },
   "outputs": [],
   "source": [
    "plt.style.use('~/pCloudDrive/Informatik/Python/matplotlibrc/notebook')"
   ]
  },
  {
   "cell_type": "markdown",
   "metadata": {},
   "source": [
    "# Einleitung, Ziel"
   ]
  },
  {
   "cell_type": "markdown",
   "metadata": {},
   "source": [
    "Mit den folgenden Messungen soll die Effizienz des WLS bestimmt werden.\n",
    "\n",
    "$$\\varepsilon_{WLS}(\\lambda) = \\varepsilon_{abs}(\\lambda) \\cdot \\varepsilon_{QY}$$\n",
    "\n",
    "$\\varepsilon_{abs}(\\lambda)$ wird mit Hilfe des Monochromators gemessen und ist je nach Schichtdicke und Qualität anders.\n",
    "$\\varepsilon_{QY}$ hingegen ist für alle Beschichtungen gleich und kann aus den folgenden drei Messungen bestimmt werden:\n",
    "\n",
    "* 360, noWLS, noF: Diese Messung wird benötigt, um unbekannte Faktoren wie Blende, Raumwinkel und Intensität der Lampe bestimmen zu können.\n",
    "* 360, WLS, 450: Dies ist die Hauptmessung. Aus ihr wollen wir $\\varepsilon_{QY}$ bestimmen.\n",
    "* 360, WLS, noF: Diese Messung dient als Crosscheck"
   ]
  },
  {
   "cell_type": "markdown",
   "metadata": {},
   "source": [
    "# Theorie"
   ]
  },
  {
   "cell_type": "markdown",
   "metadata": {},
   "source": [
    "## Messung 1: 360, noWLS, noF"
   ]
  },
  {
   "cell_type": "markdown",
   "metadata": {},
   "source": [
    "Für den Aufbau ergibt sich folgende Formel:\n",
    "\n",
    "$$ I_{PD}(\\theta) = \\int R_{lamp} \\cdot S_{lamp}(\\lambda) \\cdot \\varepsilon_{Blende} \\cdot \\varepsilon_{360}(\\lambda) \\cdot E_{\\gamma}(\\lambda) \\cdot R_{PD}(\\lambda) \\cdot d\\lambda \\cdot \\varepsilon_{Geo}(\\theta) \\cdot \\Delta\\Omega$$ "
   ]
  },
  {
   "cell_type": "markdown",
   "metadata": {},
   "source": [
    "* $I_{PD}(\\theta)$: gemessene Stromstärke\n",
    "* $R_{lamp}$: von der Lampe abgestrahlte Rate an Photonen (alle Wellenlängen)\n",
    "* $S_{lamp}(\\lambda)$: von der Lampe abgestrahltes Spektrum, normiert; multipliziert mit $R_{lamp}$ ergibt es die Rate an Photonen pro Wellenlänge\n",
    "* $\\varepsilon_{Blende}$: berücksichtigt den durch die Blende weggenommenen Teil des Lichts\n",
    "* $\\varepsilon_{360}(\\lambda)$: Transmission des 360nm-Filters\n",
    "* $E_{\\gamma}(\\lambda)$: Photonenergie, benötigt um von Photonrate auf Leistung zu kommen für Response-Funktion\n",
    "* $R_{PD}(\\lambda)$: Response-Function der Photodiode, Einheiten $\\frac{A}{W}$\n",
    "* $\\varepsilon_{Geo}(\\theta)$: geometrischer Korrekturfaktor, gibt an welcher Anteil der Intensität unter welchem Raumwinkel zu finden ist (unbekannt), auch bei dieser Messung vorhanden, da Strahl ausgedehnt ist\n",
    "* $\\Delta\\Omega$: von der Photodiode abgedeckter Raumwinkel"
   ]
  },
  {
   "cell_type": "markdown",
   "metadata": {},
   "source": [
    "Da wir $\\varepsilon_{Geo}(\\theta)$ nicht genau kennen und unsere gesamte Messung verwenden wollen und nicht nur eine Position, integrieren wir über unsere Messung."
   ]
  },
  {
   "cell_type": "markdown",
   "metadata": {},
   "source": [
    "$$I_{total,\\Delta\\Omega} = \\int_0^{\\frac{\\pi}{2}} I_{PD}(\\theta) \\cdot \\sin(\\theta) \\cdot d\\theta \\int_0^{2 \\pi} d\\varphi = \\int R_{lamp} \\cdot S_{lamp}(\\lambda) \\cdot \\varepsilon_{Blende} \\cdot \\varepsilon_{360}(\\lambda) \\cdot E_{\\gamma}(\\lambda) \\cdot R_{PD}(\\lambda) \\cdot d\\lambda \\cdot \\Delta\\Omega \\cdot \\int_0^{2 \\pi} \\varepsilon_{Geo}(\\theta) \\cdot \\sin(\\theta) \\cdot d\\theta \\cdot d\\varphi$$\n",
    "\n",
    "Das Integral über $\\varepsilon_{Geo}(\\theta)$ kennen wir, es ist der Anteil des Lichts, der das Dia verlässt (also nicht totalreflektiert wird). Bei dieser Messung sind dies 100% (da es keine Reemission gibt).\n",
    "Wir definieren ihn als $\\varepsilon_{\\Omega}$.\n",
    " \n",
    "$$I_{total,\\Delta\\Omega} = \\int R_{lamp} \\cdot S_{lamp}(\\lambda) \\cdot \\varepsilon_{Blende} \\cdot \\varepsilon_{360}(\\lambda) \\cdot E_{\\gamma}(\\lambda) \\cdot R_{PD}(\\lambda) \\cdot d\\lambda \\cdot \\Delta\\Omega \\cdot \\varepsilon_{\\Omega}$$\n",
    "\n",
    "Nun wollen wir nach den unbekannten Größen umstellen:\n",
    "\n",
    "$$R_{lamp} \\cdot \\varepsilon_{Blende} \\cdot \\Delta\\Omega = \\frac{I_{total,\\Delta\\Omega}}{\\int S_{lamp}(\\lambda) \\cdot \\varepsilon_{360}(\\lambda) \\cdot E_{\\gamma}(\\lambda) \\cdot R_{PD}(\\lambda) \\cdot d\\lambda \\cdot \\varepsilon_{\\Omega}}$$\n",
    "\n",
    "Diese Größe werden wir in der nächsten Rechnung benötigen."
   ]
  },
  {
   "cell_type": "markdown",
   "metadata": {},
   "source": [
    "## Messung 2: 360, WLS, 450"
   ]
  },
  {
   "cell_type": "markdown",
   "metadata": {},
   "source": [
    "$$ I_{PD}(\\theta) = \\int R_{lamp} \\cdot S_{lamp}(\\lambda) \\cdot \\varepsilon_{Blende} \\cdot \\varepsilon_{360}(\\lambda) \\cdot \\varepsilon_{abs}(\\lambda) \\cdot d\\lambda \\cdot \\varepsilon_{QY} \\cdot \\int S_{WLS}(\\lambda) \\cdot \\varepsilon_{450}(\\lambda) \\cdot E_{\\gamma}(\\lambda) \\cdot R_{PD}(\\lambda) \\cdot d\\lambda \\cdot \\varepsilon_{Geo}(\\theta) \\cdot \\Delta\\Omega$$\n",
    "\n",
    "Wieder beseitigen wir die Winkelabhängigkeit durch Integration. Diesmal ist $\\varepsilon_{\\Omega}$ jedoch nicht eins, da wir das re-emittierte Licht messen, ein Teil also Totalreflektion untergeht. Der Anteil ist abhängig von $n_1$ ($n_2 = 1$ Luft), daher schreiben wir $\\varepsilon_{\\Omega}(n_1)$.\n",
    "\n",
    "$$I_{total,\\Delta\\Omega} = \\int R_{lamp} \\cdot S_{lamp}(\\lambda) \\cdot \\varepsilon_{Blende} \\cdot \\varepsilon_{360}(\\lambda) \\cdot \\varepsilon_{abs}(\\lambda) \\cdot d\\lambda \\cdot \\varepsilon_{QY} \\cdot \\int S_{WLS}(\\lambda) \\cdot \\varepsilon_{450}(\\lambda) \\cdot E_{\\gamma}(\\lambda) \\cdot R_{PD}(\\lambda) \\cdot d\\lambda \\cdot \\varepsilon_{\\Omega}(n_1)$$\n",
    "\n",
    "$$\\Leftrightarrow$$\n",
    "\n",
    "$$\\varepsilon_{QY} = I_{total,\\Delta\\Omega} \\cdot \\frac{1}{\\Delta\\Omega \\cdot R_{lamp} \\cdot \\varepsilon_{Blende}} \\cdot \\frac{1}{\\int S_{lamp}(\\lambda) \\cdot \\varepsilon_{360}(\\lambda) \\cdot \\varepsilon_{abs}(\\lambda) \\cdot d\\lambda \\cdot \\int S_{WLS}(\\lambda) \\cdot \\varepsilon_{450}(\\lambda) \\cdot E_{\\gamma}(\\lambda) \\cdot R_{PD}(\\lambda) \\cdot d\\lambda \\cdot \\varepsilon_{\\Omega}(n_1)}$$\n",
    "\n",
    "Hierbei sind alle Größen bekannt, wobei der erste Bruch aus dem Ergebniss von Messung 1 bestimmt werden kann."
   ]
  },
  {
   "cell_type": "markdown",
   "metadata": {},
   "source": [
    "## Messung 3: 360, WLS, noF"
   ]
  },
  {
   "cell_type": "markdown",
   "metadata": {},
   "source": [
    "Diese Messung wird als Crosscheck benutzt, da sie Teile der beiden vorangegangenen Messungen enthält."
   ]
  },
  {
   "cell_type": "markdown",
   "metadata": {},
   "source": [
    "$$ I_{PD}(\\theta) = \\int R_{lamp} \\cdot S_{lamp}(\\lambda) \\cdot \\varepsilon_{Blende} \\cdot \\varepsilon_{360}(\\lambda) \\cdot (1 - \\varepsilon_{abs}(\\lambda)) \\cdot E_{\\gamma}(\\lambda) \\cdot R_{PD}(\\lambda) \\cdot d\\lambda \\cdot \\varepsilon_{Geo,1}(\\theta) \\cdot \\Delta\\Omega$$  \n",
    "\n",
    "$$ + \\int R_{lamp} \\cdot S_{lamp}(\\lambda) \\cdot \\varepsilon_{Blende} \\cdot \\varepsilon_{360}(\\lambda) \\cdot \\varepsilon_{abs}(\\lambda) \\cdot d\\lambda \\cdot \\varepsilon_{QY} \\cdot \\int S_{WLS}(\\lambda) \\cdot E_{\\gamma}(\\lambda) \\cdot R_{PD}(\\lambda) \\cdot d\\lambda \\cdot \\varepsilon_{Geo,2}(\\theta) \\cdot \\Delta\\Omega$$\n",
    "\n",
    "Wiederum wird über den Raum integriert. Nun muss man jedoch zwischen $\\varepsilon_{\\Omega,1} = 1$ des transmittierten Strahl und $\\varepsilon_{\\Omega,2}(n_1)$ des re-emittierten Strahls unterscheiden."
   ]
  },
  {
   "cell_type": "markdown",
   "metadata": {},
   "source": [
    "$$ I_{PD,\\Delta\\Omega} = \\Delta\\Omega \\cdot R_{lamp} \\cdot \\varepsilon_{Blende} \\cdot (\\int S_{lamp}(\\lambda) \\cdot \\varepsilon_{360}(\\lambda) \\cdot (1 - \\varepsilon_{abs}(\\lambda)) \\cdot E_{\\gamma}(\\lambda) \\cdot R_{PD}(\\lambda) \\cdot d\\lambda \\cdot \\varepsilon_{\\Omega,1}$$  \n",
    "\n",
    "$$ + \\int S_{lamp}(\\lambda) \\cdot \\cdot \\varepsilon_{360}(\\lambda) \\cdot \\varepsilon_{abs}(\\lambda) \\cdot d\\lambda \\cdot \\varepsilon_{QY} \\cdot \\int S_{WLS}(\\lambda) \\cdot E_{\\gamma}(\\lambda) \\cdot R_{PD}(\\lambda) \\cdot d\\lambda \\cdot \\varepsilon_{\\Omega,2})$$\n",
    "\n",
    "Dies Gleichung kann also zur Überprüfung dienen."
   ]
  },
  {
   "cell_type": "code",
   "execution_count": null,
   "metadata": {},
   "outputs": [],
   "source": []
  }
 ],
 "metadata": {
  "kernelspec": {
   "display_name": "Python 3",
   "language": "python",
   "name": "python3"
  },
  "language_info": {
   "codemirror_mode": {
    "name": "ipython",
    "version": 3
   },
   "file_extension": ".py",
   "mimetype": "text/x-python",
   "name": "python",
   "nbconvert_exporter": "python",
   "pygments_lexer": "ipython3",
   "version": "3.6.5"
  }
 },
 "nbformat": 4,
 "nbformat_minor": 2
}

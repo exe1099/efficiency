{
 "cells": [
  {
   "cell_type": "markdown",
   "metadata": {},
   "source": [
    "## Imports"
   ]
  },
  {
   "cell_type": "code",
   "execution_count": 8,
   "metadata": {},
   "outputs": [],
   "source": [
    "import os\n",
    "import numpy as np\n",
    "np.set_printoptions(suppress=True)\n",
    "import matplotlib as mpl\n",
    "import matplotlib.pyplot as plt\n",
    "%matplotlib inline\n",
    "import scipy as sc\n",
    "import scipy.constants as c\n",
    "phc = c.physical_constants\n",
    "import sys\n",
    "\n",
    "from scipy.interpolate import interp1d\n",
    "\n",
    "DEG_TO_RAD = np.pi / 180\n",
    "RAD_TO_DEG = 180 / np.pi\n",
    "\n",
    "plot_color = 'grey'\n",
    "mpl.rc('axes', edgecolor=plot_color, labelcolor=plot_color, grid=True, labelsize=25)\n",
    "mpl.rc('xtick', color=plot_color, labelsize=16)\n",
    "mpl.rc('ytick', color=plot_color, labelsize=16)\n",
    "mpl.rc('figure', figsize=[13, 9])\n",
    "\n",
    "sys.path.append('/home/excalibur/pCloudDrive/Informatik/Python/')\n",
    "from self_written_functions import eprint\n",
    "\n",
    "sys.path.append('/home/excalibur/Dropbox/Bachelor')\n",
    "from main_class import *"
   ]
  },
  {
   "cell_type": "markdown",
   "metadata": {},
   "source": [
    "## Importing Data"
   ]
  },
  {
   "cell_type": "code",
   "execution_count": 2,
   "metadata": {},
   "outputs": [],
   "source": [
    "os.chdir(\"/home/excalibur/Dropbox/Bachelor\")"
   ]
  },
  {
   "cell_type": "code",
   "execution_count": 3,
   "metadata": {},
   "outputs": [
    {
     "name": "stdout",
     "output_type": "stream",
     "text": [
      "Synchronized time with a time-difference of 2.0275891996898174.\n"
     ]
    }
   ],
   "source": [
    "runXX = EngAndDemData('87')\n",
    "runXX.synchronizing_time()\n",
    "runXX.get_final_data()"
   ]
  },
  {
   "cell_type": "code",
   "execution_count": 4,
   "metadata": {},
   "outputs": [],
   "source": [
    "current_data = np.array([runXX.eng_means[0], runXX.dem_means[0]]).T\n",
    "current_data_sym = np.array([runXX.eng_means[0] - 0.5, runXX.dem_means[0]]).T"
   ]
  },
  {
   "cell_type": "code",
   "execution_count": 9,
   "metadata": {},
   "outputs": [
    {
     "data": {
      "image/png": "[encoded data removed]",
      "text/plain": [
       "<matplotlib.figure.Figure at 0x7fee781efbe0>"
      ]
     },
     "metadata": {},
     "output_type": "display_data"
    }
   ],
   "source": [
    "fig = plt.figure()\n",
    "plt.plot(current_data_sym.T[0], current_data_sym.T[1], 'x') \n",
    "plt.xlabel(r\"$\\mathtt{Angle\\/\\/[°]}$\")\n",
    "plt.ylabel(r\"$\\mathtt{Current\\/\\/[nA]}$\");"
   ]
  },
  {
   "cell_type": "code",
   "execution_count": 10,
   "metadata": {},
   "outputs": [],
   "source": [
    "current_inter = interp1d(current_data_sym.T[0], current_data_sym.T[1], kind='cubic')"
   ]
  },
  {
   "cell_type": "code",
   "execution_count": 11,
   "metadata": {},
   "outputs": [],
   "source": [
    "borders = (0, 35 * DEG_TO_RAD)"
   ]
  },
  {
   "cell_type": "markdown",
   "metadata": {},
   "source": [
    "## Integrating Current"
   ]
  },
  {
   "cell_type": "code",
   "execution_count": 12,
   "metadata": {},
   "outputs": [],
   "source": [
    "detector_distance = 7.5  # distance to detector [cm]\n",
    "detector_window = 0.3  # diameter of detector window [cm]\n",
    "detector_radius = detector_window / 2"
   ]
  },
  {
   "cell_type": "code",
   "execution_count": 13,
   "metadata": {},
   "outputs": [],
   "source": [
    "detector_solid_angle = np.pi * detector_radius**2 / detector_distance**2"
   ]
  },
  {
   "cell_type": "code",
   "execution_count": 14,
   "metadata": {},
   "outputs": [],
   "source": [
    "def integrand(theta):\n",
    "    \"\"\"\n",
    "        theta [rad]\n",
    "        returns: I_d_omega [nA / sr]\n",
    "    \"\"\"\n",
    "    return current_inter(theta * RAD_TO_DEG) / detector_solid_angle * np.sin(theta) "
   ]
  },
  {
   "cell_type": "code",
   "execution_count": 15,
   "metadata": {},
   "outputs": [
    {
     "data": {
      "text/plain": [
       "241.89022780255894"
      ]
     },
     "execution_count": 15,
     "metadata": {},
     "output_type": "execute_result"
    }
   ],
   "source": [
    "I_total = sc.integrate.quad(integrand, borders[0], borders[1])[0] * 2 * np.pi  # nA\n",
    "I_total"
   ]
  },
  {
   "cell_type": "markdown",
   "metadata": {},
   "source": [
    "## Current to n_photons"
   ]
  },
  {
   "cell_type": "code",
   "execution_count": 16,
   "metadata": {},
   "outputs": [],
   "source": [
    "# response function at 365nm\n",
    "R = 0.15 * 10**9  # nA / W"
   ]
  },
  {
   "cell_type": "code",
   "execution_count": 17,
   "metadata": {},
   "outputs": [],
   "source": [
    "E_gamma = phc['Planck constant'][0] * phc['speed of light in vacuum'][0] / (365 * 10**-9)  # J"
   ]
  },
  {
   "cell_type": "code",
   "execution_count": 18,
   "metadata": {},
   "outputs": [
    {
     "name": "stdout",
     "output_type": "stream",
     "text": [
      "2.963079e+12\n"
     ]
    }
   ],
   "source": [
    "R_in = I_total / (E_gamma * R)  # n_photons / s\n",
    "eprint(R_in)"
   ]
  }
 ],
 "metadata": {
  "kernelspec": {
   "display_name": "Python 3",
   "language": "python",
   "name": "python3"
  },
  "language_info": {
   "codemirror_mode": {
    "name": "ipython",
    "version": 3
   },
   "file_extension": ".py",
   "mimetype": "text/x-python",
   "name": "python",
   "nbconvert_exporter": "python",
   "pygments_lexer": "ipython3",
   "version": "3.6.4"
  }
 },
 "nbformat": 4,
 "nbformat_minor": 2
}

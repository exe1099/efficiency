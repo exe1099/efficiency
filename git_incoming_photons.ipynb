{
 "cells": [
  {
   "cell_type": "markdown",
   "metadata": {},
   "source": [
    "## Imports"
   ]
  },
  {
   "cell_type": "code",
   "execution_count": 76,
   "metadata": {},
   "outputs": [],
   "source": [
    "import os\n",
    "import numpy as np\n",
    "import matplotlib as mpl\n",
    "import matplotlib.pyplot as plt\n",
    "%matplotlib inline\n",
    "import scipy.constants as c\n",
    "import scipy as sc\n",
    "phc = c.physical_constants\n",
    "import sys\n",
    "sys.path.append('/home/excalibur/pCloudDrive/Informatik/Python/')\n",
    "from self_written_functions import *\n",
    "from scipy.interpolate import interp1d\n",
    "sys.path.append('/home/excalibur/Dropbox/Bachelor')\n",
    "from main_class import *"
   ]
  },
  {
   "cell_type": "code",
   "execution_count": 82,
   "metadata": {},
   "outputs": [],
   "source": [
    "plt.style.use('~/pCloudDrive/Informatik/Python/matplotlibrc/notebook')"
   ]
  },
  {
   "cell_type": "markdown",
   "metadata": {},
   "source": [
    "# Introduction, Goal"
   ]
  },
  {
   "cell_type": "markdown",
   "metadata": {},
   "source": [
    "Es wurde eine Messung mit 360nm (FWHM=10nm) Filter nach der Lampe, ohne WLS auf dem Dia sowie ohne Filter vor der Diode aufgenommen. Das Ziel ist es, aus diesen Daten die Rate der einfallenden Photonen zu bestimmen, also derer die auf das Dia treffen."
   ]
  },
  {
   "cell_type": "markdown",
   "metadata": {},
   "source": [
    "# Math"
   ]
  },
  {
   "cell_type": "markdown",
   "metadata": {},
   "source": [
    "Für den Aufbau ergibt sich folgende Formel:\n",
    "\n",
    "$$I_{PD}(\\theta) = \\int I_{lamp}(\\lambda) \\cdot \\varepsilon_{360}(\\lambda) \\cdot \\varepsilon_{Blende} \\cdot d\\lambda \\cdot \\int  S_{360}(\\lambda) \\cdot R_{PD}(\\lambda) \\cdot d\\lambda \\cdot \\varepsilon_{Geo}(\\theta) \\cdot \\Delta \\Omega$$\n",
    "\n",
    "* $I_{lamp}(\\lambda)$: von der Lampe erzeugte \"Intensität\" (richtige Einheiten?)\n",
    "* $\\varepsilon_{360}$: Transmission des 360nm-Filters\n",
    "* $S_{360}$: Spektrum des 360nm-Filters, also Transmission auf 1 normiert\n",
    "* $\\varepsilon_{Geo}(\\theta)$: geometrischer Korrekturfaktor, gibt an welcher Anteil der Intensität unter welchem Raumwinkel zu finden ist (unbekannt), auch bei dieser Messung vorhanden, da Strahl ausgedehnt ist\n",
    "* $\\Delta\\Omega$: von der Photodiode abgedeckter Raumwinkel\n",
    "* $R_{PD}(\\lambda)$: Response-Function der Photodiode, Einheiten $\\frac{A}{W}$\n"
   ]
  },
  {
   "cell_type": "markdown",
   "metadata": {},
   "source": [
    "Das erste Integral entspricht somit der \"Intensität\", die das Dia trifft. An dieser sind wir interessiert, da wir über sie und die Energie der Photonen die Rate der Photonen berechnen können. Die einzelnen Faktoren des Integrals benötigen wir nicht und setzen daher: $$I_{Dia} := \\int I_{lamp}(\\lambda) \\cdot \\varepsilon_{360}(\\lambda) \\cdot \\varepsilon_{Blende} \\cdot d\\lambda$$\n",
    "\n",
    "Das zweite Integral entspricht der über das Filterspektrum gemittelten Response-Funktion der Photodiode. Dies können wir berechnen und schreiben: $$R_{PD,360} := \\int  S_{360}(\\lambda) \\cdot R_{PD}(\\lambda) \\cdot d\\lambda$$\n",
    "\n",
    "Somit folgt\n",
    "\n",
    "$$I_{PD}(\\theta) = I_{Dia} \\cdot R_{PD,360} \\cdot \\varepsilon_{Geo}(\\theta) \\cdot \\Delta \\Omega$$\n",
    "$$\\Leftrightarrow$$\n",
    "$$\\frac{I_{PD}(\\theta)}{\\Delta \\Omega} = I_{Dia} \\cdot R_{PD,360} \\cdot \\varepsilon_{Geo}(\\theta)$$"
   ]
  },
  {
   "cell_type": "markdown",
   "metadata": {},
   "source": [
    "Da wir $\\varepsilon_{Geo}(\\theta)$ nicht genau kennen und unsere gesamte Messung verwenden wollen und nicht nur eine Position, integrieren wir über unsere Messung.\n",
    "\n",
    "$$I_{total,PD} = \\int_0^{\\frac{\\pi}{2}} \\frac{I_{PD}(\\theta)}{\\Delta\\Omega} \\cdot \\sin(\\theta) \\cdot d\\theta \\int_0^{2 \\pi} d\\varphi = I_{Dia} \\cdot R_{PD,360} \\cdot \\int_0^{\\frac{\\pi}{2}} \\int_0^{2 \\pi} \\varepsilon_{Geo}(\\theta) \\cdot \\sin(\\theta) \\cdot d\\theta \\cdot d\\varphi$$\n",
    "\n",
    "Das Integral über $\\varepsilon_{Geo}(\\theta)$ kennen wir, es ist der Anteil des Lichts, der das Dia verlässt (also nicht totalreflektiert wird). Bei dieser Messung sind dies 100% (da es keine Reemission gibt).\n",
    "Wir definieren ihn als $\\varepsilon_{\\Omega}$.\n",
    "\n",
    "Somit ergibt sich:\n",
    "\n",
    "$$I_{total,PD} = I_{Dia} \\cdot R_{PD,360} \\cdot \\varepsilon_{\\Omega}$$\n",
    "$$\\Leftrightarrow$$\n",
    "$$I_{Dia} =  \\frac{I_{total,PD}}{R_{PD,360} \\cdot \\varepsilon_{\\Omega}}$$\n",
    "\n",
    "Um auf die Rate der Photonen zu kommen, berechnen wir:\n",
    "\n",
    "$$ R_{\\gamma} = \\frac{I_{Dia}}{E_{\\gamma,360}} = \\frac{I_{total,PD}}{R_{PD,360} \\cdot E_{\\gamma,360} \\cdot \\varepsilon_{\\Omega}}$$\n",
    "\n",
    "Wobei $E_{\\gamma,360}$ wiederum die mit dem Spektrum des 360nm-Filters gewichtete Energie der Photonen ist, also die mittlere Photonenenergie."
   ]
  },
  {
   "cell_type": "markdown",
   "metadata": {},
   "source": [
    "# Calculation"
   ]
  },
  {
   "cell_type": "markdown",
   "metadata": {},
   "source": [
    "## Importing Data and Interpolations"
   ]
  },
  {
   "cell_type": "code",
   "execution_count": 3,
   "metadata": {},
   "outputs": [],
   "source": [
    "os.chdir(\"/home/excalibur/Dropbox/Bachelor/\")"
   ]
  },
  {
   "cell_type": "markdown",
   "metadata": {},
   "source": [
    "#### Interpolation of measured current"
   ]
  },
  {
   "cell_type": "code",
   "execution_count": 112,
   "metadata": {},
   "outputs": [
    {
     "name": "stdout",
     "output_type": "stream",
     "text": [
      "Synchronized time with a time-difference of 2.0585564673251504.\n"
     ]
    }
   ],
   "source": [
    "### insert run_in number ###\n",
    "### proper time synchronization? ###\n",
    "runXX = EngAndDemData('132')\n",
    "runXX.synchronizing_time()\n",
    "runXX.get_final_data()"
   ]
  },
  {
   "cell_type": "code",
   "execution_count": 113,
   "metadata": {},
   "outputs": [],
   "source": [
    "### add +/- ? so the peak is symmetric ###\n",
    "current_data = np.array([runXX.eng_means[0], runXX.dem_means[0]]).T"
   ]
  },
  {
   "cell_type": "code",
   "execution_count": 114,
   "metadata": {},
   "outputs": [
    {
     "data": {
      "image/png": "[encoded data removed]",
      "text/plain": [
       "<Figure size 936x669.6 with 1 Axes>"
      ]
     },
     "metadata": {},
     "output_type": "display_data"
    }
   ],
   "source": [
    "fig = plt.figure()\n",
    "plt.plot(current_data.T[0], current_data.T[1], 'x') \n",
    "plt.xlabel(r\"Angle\")\n",
    "plt.ylabel(r\"Current\");"
   ]
  },
  {
   "cell_type": "code",
   "execution_count": 115,
   "metadata": {},
   "outputs": [],
   "source": [
    "current_inter = interp1d(current_data.T[0], current_data.T[1], kind='cubic')"
   ]
  },
  {
   "cell_type": "markdown",
   "metadata": {},
   "source": [
    "Der Durchschnitt über beide Seiten wird genommen. In der Theorie sollte die Verteilung symmetrisch sein."
   ]
  },
  {
   "cell_type": "code",
   "execution_count": 116,
   "metadata": {},
   "outputs": [],
   "source": [
    "def current_inter_average(theta):\n",
    "    \"\"\"\n",
    "        theta [degree]\n",
    "        returns [nA]\n",
    "    \"\"\"\n",
    "    return (current_inter(theta) + current_inter(-theta)) / 2"
   ]
  },
  {
   "cell_type": "code",
   "execution_count": 117,
   "metadata": {},
   "outputs": [],
   "source": [
    "### adjust borders ###\n",
    "borders = (0, np.deg2rad(75))"
   ]
  },
  {
   "cell_type": "markdown",
   "metadata": {},
   "source": [
    "#### Interpolation of response function"
   ]
  },
  {
   "cell_type": "code",
   "execution_count": 118,
   "metadata": {},
   "outputs": [],
   "source": [
    "response_data = np.genfromtxt('spectren/SM1PD2A_sensitivity.txt')\n",
    "response_inter = interp1d(response_data.T[0], response_data.T[1] * 10**9, kind='cubic')  # from A/W to nA/W"
   ]
  },
  {
   "cell_type": "markdown",
   "metadata": {},
   "source": [
    "#### Interpolation of 360nm-Filter"
   ]
  },
  {
   "cell_type": "code",
   "execution_count": 119,
   "metadata": {},
   "outputs": [],
   "source": [
    "filter_360_data = np.genfromtxt('spectren/FB360-10.csv')\n",
    "# muss aufsteigend sein für Interpolation, daher [::-1]\n",
    "filter_360_inter = sc.interpolate.UnivariateSpline(filter_360_data.T[0][::-1], \n",
    "                                                   filter_360_data.T[1][::-1] * 10**-2)  # from % to 0.xx"
   ]
  },
  {
   "cell_type": "markdown",
   "metadata": {},
   "source": [
    "Wir benötigen später das normalisierte Spektrum vom Filter $S_{360}(\\lambda)$. Zum Normalisieren benutzen wir den Bereich von 300nm bis 400nm, da nur dieser für uns relevant ist (UV-Lampe erzeugt kein Licht bei 200nm)."
   ]
  },
  {
   "cell_type": "code",
   "execution_count": 120,
   "metadata": {},
   "outputs": [],
   "source": [
    "filter_360_borders = (300, 400)  # nm\n",
    "norm = filter_360_inter.integral(filter_360_borders[0], filter_360_borders[1])\n",
    "def filter_360_normalized(lambda_):\n",
    "    return filter_360_inter(lambda_) / norm"
   ]
  },
  {
   "cell_type": "markdown",
   "metadata": {},
   "source": [
    "## Integrating Current"
   ]
  },
  {
   "cell_type": "markdown",
   "metadata": {},
   "source": [
    "Im folgenden berechnen wir: $$I_{total,PD} = \\int_0^{\\frac{\\pi}{2}} \\frac{I_{PD}(\\theta)}{\\Delta\\Omega} \\cdot \\sin(\\theta) \\cdot d\\theta \\int_0^{2 \\pi} d\\varphi$$\n",
    "\n",
    "Die Grenzen des ersten Integrals werden entsprechend unserer Messung angepasst, da wir für Winkel nahe 90° keine Messwerte besitzen, die Stromstärke dort jedoch sowieso 0nA ist.\n",
    "\n",
    "Der genaue numerische Wert des vom Detektor abgedeckten Raumwinkels ist egal, da wir später nur relative Werte berechnen wollen und er sich somit rauskürzt. Wir müssen ihn nur über alle Rechnungen konstant halten."
   ]
  },
  {
   "cell_type": "code",
   "execution_count": 121,
   "metadata": {},
   "outputs": [],
   "source": [
    "detector_distance = 6.0  # distance to detector [cm]\n",
    "detector_window = 0.5  # diameter of detector window [cm]\n",
    "detector_radius = detector_window / 2\n",
    "detector_solid_angle = np.pi * detector_radius**2 / detector_distance**2"
   ]
  },
  {
   "cell_type": "code",
   "execution_count": 122,
   "metadata": {},
   "outputs": [
    {
     "data": {
      "text/plain": [
       "139.00469196730026"
      ]
     },
     "execution_count": 122,
     "metadata": {},
     "output_type": "execute_result"
    }
   ],
   "source": [
    "def integrand(theta):\n",
    "    \"\"\"\n",
    "        theta [rad]\n",
    "        returns: I_d_omega [nA / sr]\n",
    "    \"\"\"\n",
    "    return current_inter_average(np.rad2deg(theta)) / detector_solid_angle * np.sin(theta) \n",
    "\n",
    "I_total_pd = sc.integrate.quad(integrand, borders[0], borders[1], limit=1500)[0] * 2 * np.pi  # nA\n",
    "I_total_pd"
   ]
  },
  {
   "cell_type": "markdown",
   "metadata": {},
   "source": [
    "## Current to n_photons"
   ]
  },
  {
   "cell_type": "markdown",
   "metadata": {},
   "source": [
    "Nun berechnen wir die Rate der Photonen:\n",
    "$$ R_{\\gamma} = \\frac{I_{Dia}}{E_{\\gamma,360}} = \\frac{I_{total,PD}}{R_{PD,360} \\cdot E_{\\gamma,360} \\cdot \\varepsilon_{\\Omega}}$$\n",
    "\n",
    "$\\varepsilon_{\\Omega}$ ist wie oben erwähnt gleich 1."
   ]
  },
  {
   "cell_type": "code",
   "execution_count": 123,
   "metadata": {},
   "outputs": [],
   "source": [
    "def integrand_R_pd(lambda_):\n",
    "    return response_inter(lambda_) * filter_360_normalized(lambda_)\n",
    "\n",
    "R_pd_360 = sc.integrate.quad(integrand_R_pd, filter_360_borders[0], filter_360_borders[1])[0]"
   ]
  },
  {
   "cell_type": "code",
   "execution_count": 124,
   "metadata": {},
   "outputs": [
    {
     "name": "stdout",
     "output_type": "stream",
     "text": [
      "152890000.0\n",
      "157916701.09587556\n"
     ]
    }
   ],
   "source": [
    "# check:\n",
    "print(response_inter(360))\n",
    "print(R_pd_360)"
   ]
  },
  {
   "cell_type": "code",
   "execution_count": 125,
   "metadata": {},
   "outputs": [],
   "source": [
    "def integrand_E_gamma(lambda_):\n",
    "    E_gamma = phc['Planck constant'][0] * phc['speed of light in vacuum'][0] / (lambda_ * 10**-9)  # J\n",
    "    return E_gamma * filter_360_normalized(lambda_)\n",
    "\n",
    "E_gamma_360 = sc.integrate.quad(integrand_E_gamma, filter_360_borders[0], filter_360_borders[1])[0]"
   ]
  },
  {
   "cell_type": "code",
   "execution_count": 126,
   "metadata": {},
   "outputs": [
    {
     "name": "stdout",
     "output_type": "stream",
     "text": [
      "1.530128e+12\n"
     ]
    }
   ],
   "source": [
    "R_gamma = I_total_pd / (E_gamma_360 * R_pd_360)  # n_photons / s\n",
    "eprint(R_gamma)"
   ]
  },
  {
   "cell_type": "code",
   "execution_count": 78,
   "metadata": {},
   "outputs": [],
   "source": [
    "#  87: 6.735928e+11\n",
    "# 118: 2.792913e+12\n",
    "# 120: 2.032116e+12\n",
    "# 128: 2.052324e+12\n",
    "# 129: 1.912311e+12, 161.3 nA (should be same as 132)\n",
    "# 129: 1.706974e+12 (with using 360nm-filter spectrum)\n",
    "# 132: 1.871684e+12, 157.9 nA\n",
    "# 132: 1.530128e+12 (with using 360nm-filter spectrum)"
   ]
  },
  {
   "cell_type": "code",
   "execution_count": null,
   "metadata": {},
   "outputs": [],
   "source": []
  }
 ],
 "metadata": {
  "kernelspec": {
   "display_name": "Python 3",
   "language": "python",
   "name": "python3"
  },
  "language_info": {
   "codemirror_mode": {
    "name": "ipython",
    "version": 3
   },
   "file_extension": ".py",
   "mimetype": "text/x-python",
   "name": "python",
   "nbconvert_exporter": "python",
   "pygments_lexer": "ipython3",
   "version": "3.6.5"
  }
 },
 "nbformat": 4,
 "nbformat_minor": 2
}
